{
  "cells": [
    {
      "cell_type": "code",
      "execution_count": 27,
      "id": "f5a17f7b",
      "metadata": {
        "colab": {
          "base_uri": "https://localhost:8080/"
        },
        "id": "f5a17f7b",
        "outputId": "a9992b61-4e51-4228-d0e9-49c2973521a9"
      },
      "outputs": [
        {
          "output_type": "stream",
          "name": "stdout",
          "text": [
            "Looking in indexes: https://pypi.org/simple, https://us-python.pkg.dev/colab-wheels/public/simple/\n",
            "Requirement already satisfied: pyspark in /usr/local/lib/python3.8/dist-packages (3.3.1)\n",
            "Requirement already satisfied: py4j==0.10.9.5 in /usr/local/lib/python3.8/dist-packages (from pyspark) (0.10.9.5)\n"
          ]
        }
      ],
      "source": [
        "!pip install pyspark"
      ]
    },
    {
      "cell_type": "code",
      "execution_count": 28,
      "id": "dacc6853",
      "metadata": {
        "id": "dacc6853"
      },
      "outputs": [],
      "source": [
        "from pyspark import SparkContext\n",
        "import numpy as np\n",
        "import pandas as pd\n",
        "import matplotlib.pyplot as plt\n",
        "import seaborn as sns\n",
        "sns.set_style('darkgrid')\n",
        "%matplotlib inline"
      ]
    },
    {
      "cell_type": "code",
      "execution_count": 31,
      "id": "ab5a5982",
      "metadata": {
        "colab": {
          "base_uri": "https://localhost:8080/"
        },
        "id": "ab5a5982",
        "outputId": "2d49c6f8-4f77-4a44-9510-4bd21eda1dd0"
      },
      "outputs": [
        {
          "output_type": "stream",
          "name": "stdout",
          "text": [
            "Overwriting example.txt\n"
          ]
        }
      ],
      "source": [
        "%%writefile example.txt\n",
        "first line\n",
        "second line\n",
        "third line\n",
        "fourth line"
      ]
    },
    {
      "cell_type": "code",
      "source": [
        "sc = SparkContext()"
      ],
      "metadata": {
        "id": "_r9kN1fuBl_F"
      },
      "id": "_r9kN1fuBl_F",
      "execution_count": null,
      "outputs": []
    },
    {
      "cell_type": "code",
      "source": [
        "textFile = sc.textFile('example.txt')"
      ],
      "metadata": {
        "id": "qHNM5gANwk6U"
      },
      "id": "qHNM5gANwk6U",
      "execution_count": 32,
      "outputs": []
    },
    {
      "cell_type": "code",
      "source": [
        "textFile.first()"
      ],
      "metadata": {
        "colab": {
          "base_uri": "https://localhost:8080/",
          "height": 36
        },
        "id": "Mp6zxLuMAr8D",
        "outputId": "cef41a73-d8ca-4230-db22-4b870eb366bf"
      },
      "id": "Mp6zxLuMAr8D",
      "execution_count": 33,
      "outputs": [
        {
          "output_type": "execute_result",
          "data": {
            "text/plain": [
              "'first line'"
            ],
            "application/vnd.google.colaboratory.intrinsic+json": {
              "type": "string"
            }
          },
          "metadata": {},
          "execution_count": 33
        }
      ]
    },
    {
      "cell_type": "code",
      "source": [
        "secFile = textFile.filter(lambda line: 'second' in line)\n",
        "secFile"
      ],
      "metadata": {
        "colab": {
          "base_uri": "https://localhost:8080/"
        },
        "id": "nW_KoOmexITU",
        "outputId": "4edf6f15-06d2-4227-a299-d413e2d205af"
      },
      "id": "nW_KoOmexITU",
      "execution_count": 34,
      "outputs": [
        {
          "output_type": "execute_result",
          "data": {
            "text/plain": [
              "PythonRDD[17] at RDD at PythonRDD.scala:53"
            ]
          },
          "metadata": {},
          "execution_count": 34
        }
      ]
    },
    {
      "cell_type": "code",
      "source": [
        "secFile.collect()"
      ],
      "metadata": {
        "colab": {
          "base_uri": "https://localhost:8080/"
        },
        "id": "ikbNwZlbzPR0",
        "outputId": "eb45270b-98a4-4f26-cdf9-090b1b1dd550"
      },
      "id": "ikbNwZlbzPR0",
      "execution_count": 35,
      "outputs": [
        {
          "output_type": "execute_result",
          "data": {
            "text/plain": [
              "['second line']"
            ]
          },
          "metadata": {},
          "execution_count": 35
        }
      ]
    },
    {
      "cell_type": "code",
      "source": [
        "secFile.count()"
      ],
      "metadata": {
        "colab": {
          "base_uri": "https://localhost:8080/"
        },
        "id": "K5J6oNRtzd2R",
        "outputId": "39995d28-9c1f-472f-863a-70ce76643c37"
      },
      "id": "K5J6oNRtzd2R",
      "execution_count": 36,
      "outputs": [
        {
          "output_type": "execute_result",
          "data": {
            "text/plain": [
              "1"
            ]
          },
          "metadata": {},
          "execution_count": 36
        }
      ]
    },
    {
      "cell_type": "code",
      "source": [
        "square = lambda x: x**2\n",
        "square(2)"
      ],
      "metadata": {
        "colab": {
          "base_uri": "https://localhost:8080/"
        },
        "id": "ZKYT9kA7ze_9",
        "outputId": "805fbfae-0c58-465b-cb32-5d6623b11453"
      },
      "id": "ZKYT9kA7ze_9",
      "execution_count": 37,
      "outputs": [
        {
          "output_type": "execute_result",
          "data": {
            "text/plain": [
              "4"
            ]
          },
          "metadata": {},
          "execution_count": 37
        }
      ]
    },
    {
      "cell_type": "code",
      "source": [
        "rev = lambda x: x[::-1]\n",
        "rev('hello')"
      ],
      "metadata": {
        "colab": {
          "base_uri": "https://localhost:8080/",
          "height": 36
        },
        "id": "tCkZ4uE-9pvk",
        "outputId": "451ce8ab-33ea-4876-f46f-44c1718822f5"
      },
      "id": "tCkZ4uE-9pvk",
      "execution_count": 38,
      "outputs": [
        {
          "output_type": "execute_result",
          "data": {
            "text/plain": [
              "'olleh'"
            ],
            "application/vnd.google.colaboratory.intrinsic+json": {
              "type": "string"
            }
          },
          "metadata": {},
          "execution_count": 38
        }
      ]
    },
    {
      "cell_type": "code",
      "source": [
        "adder = lambda x, y: x+y\n",
        "adder(1, 4)"
      ],
      "metadata": {
        "colab": {
          "base_uri": "https://localhost:8080/"
        },
        "id": "5SYJkSiP-Tt1",
        "outputId": "70021e61-b795-4122-a1c9-8e76ea8ca6c6"
      },
      "id": "5SYJkSiP-Tt1",
      "execution_count": 39,
      "outputs": [
        {
          "output_type": "execute_result",
          "data": {
            "text/plain": [
              "5"
            ]
          },
          "metadata": {},
          "execution_count": 39
        }
      ]
    },
    {
      "cell_type": "code",
      "source": [
        "%%writefile example2.txt\n",
        "first \n",
        "second line\n",
        "the third line\n",
        "then a fourth line"
      ],
      "metadata": {
        "colab": {
          "base_uri": "https://localhost:8080/"
        },
        "id": "pzzbvevg-ciI",
        "outputId": "c4fbb061-5c77-45c8-8870-51d697a53bc6"
      },
      "id": "pzzbvevg-ciI",
      "execution_count": 40,
      "outputs": [
        {
          "output_type": "stream",
          "name": "stdout",
          "text": [
            "Overwriting example2.txt\n"
          ]
        }
      ]
    },
    {
      "cell_type": "code",
      "source": [
        "text_rdd = sc.textFile('example2.txt')"
      ],
      "metadata": {
        "id": "IK0HgVjgAObc"
      },
      "id": "IK0HgVjgAObc",
      "execution_count": 41,
      "outputs": []
    },
    {
      "cell_type": "code",
      "source": [
        "text_rdd.map(lambda line: line.split()).collect()"
      ],
      "metadata": {
        "colab": {
          "base_uri": "https://localhost:8080/"
        },
        "id": "DsgYZLj6AVdr",
        "outputId": "349e5e3b-34a9-4205-ef53-2138eaba7d0e"
      },
      "id": "DsgYZLj6AVdr",
      "execution_count": 42,
      "outputs": [
        {
          "output_type": "execute_result",
          "data": {
            "text/plain": [
              "[['first'],\n",
              " ['second', 'line'],\n",
              " ['the', 'third', 'line'],\n",
              " ['then', 'a', 'fourth', 'line']]"
            ]
          },
          "metadata": {},
          "execution_count": 42
        }
      ]
    },
    {
      "cell_type": "code",
      "source": [
        "text_rdd.flatMap(lambda line: line.split()).collect()"
      ],
      "metadata": {
        "colab": {
          "base_uri": "https://localhost:8080/"
        },
        "id": "r6h8HVsDAlkX",
        "outputId": "12196bfe-c787-41ea-daa2-e4dd55e20b10"
      },
      "id": "r6h8HVsDAlkX",
      "execution_count": 43,
      "outputs": [
        {
          "output_type": "execute_result",
          "data": {
            "text/plain": [
              "['first',\n",
              " 'second',\n",
              " 'line',\n",
              " 'the',\n",
              " 'third',\n",
              " 'line',\n",
              " 'then',\n",
              " 'a',\n",
              " 'fourth',\n",
              " 'line']"
            ]
          },
          "metadata": {},
          "execution_count": 43
        }
      ]
    },
    {
      "cell_type": "code",
      "source": [
        "%%writefile services.txt\n",
        "#EventId    Timestamp    Customer   State    ServiceID    Amount\n",
        "201       10/13/2017      100       NY       131          100.00\n",
        "204       10/18/2017      700       TX       129          450.00\n",
        "202       10/15/2017      203       CA       121          200.00\n",
        "206       10/19/2017      202       CA       131          500.00\n",
        "203       10/17/2017      101       NY       173          750.00\n",
        "205       10/19/2017      202       TX       121          200.00"
      ],
      "metadata": {
        "colab": {
          "base_uri": "https://localhost:8080/"
        },
        "id": "PlGpquJMAzBN",
        "outputId": "ee87b538-832d-4d01-95fa-c4b6a84b9a9a"
      },
      "id": "PlGpquJMAzBN",
      "execution_count": 44,
      "outputs": [
        {
          "output_type": "stream",
          "name": "stdout",
          "text": [
            "Overwriting services.txt\n"
          ]
        }
      ]
    },
    {
      "cell_type": "code",
      "source": [
        "services = sc.textFile('services.txt')"
      ],
      "metadata": {
        "id": "ws8cqr4tBOWg"
      },
      "id": "ws8cqr4tBOWg",
      "execution_count": 45,
      "outputs": []
    },
    {
      "cell_type": "code",
      "source": [
        "services.take(2)"
      ],
      "metadata": {
        "colab": {
          "base_uri": "https://localhost:8080/"
        },
        "id": "C6nNPDH8BTo0",
        "outputId": "6e38c790-d736-49e6-8009-463633f99ca1"
      },
      "id": "C6nNPDH8BTo0",
      "execution_count": 46,
      "outputs": [
        {
          "output_type": "execute_result",
          "data": {
            "text/plain": [
              "['#EventId    Timestamp    Customer   State    ServiceID    Amount',\n",
              " '201       10/13/2017      100       NY       131          100.00']"
            ]
          },
          "metadata": {},
          "execution_count": 46
        }
      ]
    },
    {
      "cell_type": "code",
      "source": [
        "services.map(lambda x: x.split())"
      ],
      "metadata": {
        "colab": {
          "base_uri": "https://localhost:8080/"
        },
        "id": "3UIQNo--BZfw",
        "outputId": "9dd7d4af-51df-44f4-ff49-ba23fc485892"
      },
      "id": "3UIQNo--BZfw",
      "execution_count": 47,
      "outputs": [
        {
          "output_type": "execute_result",
          "data": {
            "text/plain": [
              "PythonRDD[26] at RDD at PythonRDD.scala:53"
            ]
          },
          "metadata": {},
          "execution_count": 47
        }
      ]
    },
    {
      "cell_type": "code",
      "source": [
        "services.map(lambda x: x.split()).take(3)"
      ],
      "metadata": {
        "colab": {
          "base_uri": "https://localhost:8080/"
        },
        "id": "e1zGT58gBdaK",
        "outputId": "b9689892-0f74-458c-b81e-4e4ce88350be"
      },
      "id": "e1zGT58gBdaK",
      "execution_count": 48,
      "outputs": [
        {
          "output_type": "execute_result",
          "data": {
            "text/plain": [
              "[['#EventId', 'Timestamp', 'Customer', 'State', 'ServiceID', 'Amount'],\n",
              " ['201', '10/13/2017', '100', 'NY', '131', '100.00'],\n",
              " ['204', '10/18/2017', '700', 'TX', '129', '450.00']]"
            ]
          },
          "metadata": {},
          "execution_count": 48
        }
      ]
    },
    {
      "cell_type": "code",
      "source": [
        "services.map(lambda x: x[1:] if x[0] == '#' else x).collect()"
      ],
      "metadata": {
        "colab": {
          "base_uri": "https://localhost:8080/"
        },
        "id": "gWvAu-TNBuYH",
        "outputId": "fcc1ebd8-a976-46f3-b8f8-4c6ed5e09d29"
      },
      "id": "gWvAu-TNBuYH",
      "execution_count": 50,
      "outputs": [
        {
          "output_type": "execute_result",
          "data": {
            "text/plain": [
              "['EventId    Timestamp    Customer   State    ServiceID    Amount',\n",
              " '201       10/13/2017      100       NY       131          100.00',\n",
              " '204       10/18/2017      700       TX       129          450.00',\n",
              " '202       10/15/2017      203       CA       121          200.00',\n",
              " '206       10/19/2017      202       CA       131          500.00',\n",
              " '203       10/17/2017      101       NY       173          750.00',\n",
              " '205       10/19/2017      202       TX       121          200.00']"
            ]
          },
          "metadata": {},
          "execution_count": 50
        }
      ]
    },
    {
      "cell_type": "code",
      "source": [
        "cleanserv = services.map(lambda x: x[1:] if x[0] == '#' else x).map(lambda x: x.split())"
      ],
      "metadata": {
        "id": "yJNMFJp5B4FC"
      },
      "id": "yJNMFJp5B4FC",
      "execution_count": 52,
      "outputs": []
    },
    {
      "cell_type": "code",
      "source": [
        "cleanserv.collect()"
      ],
      "metadata": {
        "colab": {
          "base_uri": "https://localhost:8080/"
        },
        "id": "nydrlzHXC9pd",
        "outputId": "320aa9f4-9e0b-4b57-bfb7-7f4b5db07659"
      },
      "id": "nydrlzHXC9pd",
      "execution_count": 53,
      "outputs": [
        {
          "output_type": "execute_result",
          "data": {
            "text/plain": [
              "[['EventId', 'Timestamp', 'Customer', 'State', 'ServiceID', 'Amount'],\n",
              " ['201', '10/13/2017', '100', 'NY', '131', '100.00'],\n",
              " ['204', '10/18/2017', '700', 'TX', '129', '450.00'],\n",
              " ['202', '10/15/2017', '203', 'CA', '121', '200.00'],\n",
              " ['206', '10/19/2017', '202', 'CA', '131', '500.00'],\n",
              " ['203', '10/17/2017', '101', 'NY', '173', '750.00'],\n",
              " ['205', '10/19/2017', '202', 'TX', '121', '200.00']]"
            ]
          },
          "metadata": {},
          "execution_count": 53
        }
      ]
    },
    {
      "cell_type": "code",
      "source": [
        "cleanserv.map(lambda lst: (lst[3], lst[-1])).collect()"
      ],
      "metadata": {
        "colab": {
          "base_uri": "https://localhost:8080/"
        },
        "id": "BYxcwL3ODItr",
        "outputId": "4421e4c3-9ac0-4f2e-f6a3-ed29843d313a"
      },
      "id": "BYxcwL3ODItr",
      "execution_count": 56,
      "outputs": [
        {
          "output_type": "execute_result",
          "data": {
            "text/plain": [
              "[('State', 'Amount'),\n",
              " ('NY', '100.00'),\n",
              " ('TX', '450.00'),\n",
              " ('CA', '200.00'),\n",
              " ('CA', '500.00'),\n",
              " ('NY', '750.00'),\n",
              " ('TX', '200.00')]"
            ]
          },
          "metadata": {},
          "execution_count": 56
        }
      ]
    },
    {
      "cell_type": "code",
      "source": [
        "cleanserv.map(lambda lst: (lst[3], lst[-1])).reduceByKey(lambda amt1, amt2 : float(amt1)+float(amt2)).collect()"
      ],
      "metadata": {
        "colab": {
          "base_uri": "https://localhost:8080/"
        },
        "id": "zS3AIfIzDWUh",
        "outputId": "06cf37bf-ace6-451f-df2b-edbee7c130fe"
      },
      "id": "zS3AIfIzDWUh",
      "execution_count": 58,
      "outputs": [
        {
          "output_type": "execute_result",
          "data": {
            "text/plain": [
              "[('State', 'Amount'), ('NY', 850.0), ('TX', 650.0), ('CA', 700.0)]"
            ]
          },
          "metadata": {},
          "execution_count": 58
        }
      ]
    },
    {
      "cell_type": "code",
      "source": [
        "cleanserv.map(lambda lst: (lst[3], lst[-1])).reduceByKey(lambda amt1, amt2: float(amt1)+float(amt2)).filter(lambda x: not x[0] == 'State').sortBy(lambda stateAmount: stateAmount[1], ascending=False).collect()"
      ],
      "metadata": {
        "colab": {
          "base_uri": "https://localhost:8080/"
        },
        "id": "c8SZSYAGD2Lw",
        "outputId": "765e9b18-17fe-4566-9360-1cd1efedc33b"
      },
      "id": "c8SZSYAGD2Lw",
      "execution_count": 63,
      "outputs": [
        {
          "output_type": "execute_result",
          "data": {
            "text/plain": [
              "[('NY', 850.0), ('CA', 700.0), ('TX', 650.0)]"
            ]
          },
          "metadata": {},
          "execution_count": 63
        }
      ]
    },
    {
      "cell_type": "code",
      "source": [
        "x = ['Id', 'State', 'Amount']"
      ],
      "metadata": {
        "id": "Gi1Y6h5tEaw1"
      },
      "id": "Gi1Y6h5tEaw1",
      "execution_count": 64,
      "outputs": []
    },
    {
      "cell_type": "code",
      "source": [
        "x[-1]"
      ],
      "metadata": {
        "colab": {
          "base_uri": "https://localhost:8080/",
          "height": 36
        },
        "id": "9rW_YCGzE099",
        "outputId": "e6066f21-e1c2-4ba0-8122-f54133a17863"
      },
      "id": "9rW_YCGzE099",
      "execution_count": 65,
      "outputs": [
        {
          "output_type": "execute_result",
          "data": {
            "text/plain": [
              "'Amount'"
            ],
            "application/vnd.google.colaboratory.intrinsic+json": {
              "type": "string"
            }
          },
          "metadata": {},
          "execution_count": 65
        }
      ]
    },
    {
      "cell_type": "code",
      "source": [
        "id, st, amt = x\n",
        "amt"
      ],
      "metadata": {
        "colab": {
          "base_uri": "https://localhost:8080/",
          "height": 36
        },
        "id": "v2QdFp53E6uF",
        "outputId": "c37bd62b-3b1f-466e-897a-73bda4bc16b9"
      },
      "id": "v2QdFp53E6uF",
      "execution_count": 66,
      "outputs": [
        {
          "output_type": "execute_result",
          "data": {
            "text/plain": [
              "'Amount'"
            ],
            "application/vnd.google.colaboratory.intrinsic+json": {
              "type": "string"
            }
          },
          "metadata": {},
          "execution_count": 66
        }
      ]
    },
    {
      "cell_type": "code",
      "source": [],
      "metadata": {
        "id": "mSUAUmEwFARV"
      },
      "id": "mSUAUmEwFARV",
      "execution_count": null,
      "outputs": []
    }
  ],
  "metadata": {
    "kernelspec": {
      "display_name": "Python 3 (ipykernel)",
      "language": "python",
      "name": "python3"
    },
    "language_info": {
      "codemirror_mode": {
        "name": "ipython",
        "version": 3
      },
      "file_extension": ".py",
      "mimetype": "text/x-python",
      "name": "python",
      "nbconvert_exporter": "python",
      "pygments_lexer": "ipython3",
      "version": "3.10.9"
    },
    "colab": {
      "provenance": []
    }
  },
  "nbformat": 4,
  "nbformat_minor": 5
}